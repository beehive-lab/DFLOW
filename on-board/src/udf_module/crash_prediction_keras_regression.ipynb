{
  "nbformat": 4,
  "nbformat_minor": 0,
  "metadata": {
    "colab": {
      "name": "Copy of regression.ipynb",
      "provenance": [],
      "collapsed_sections": [],
      "toc_visible": true
    },
    "kernelspec": {
      "display_name": "Python 3",
      "name": "python3"
    }
  },
  "cells": [
    {
      "cell_type": "markdown",
      "metadata": {
        "id": "EIdT9iu_Z4Rb"
      },
      "source": [
        "# DNN for crash predicition"
      ]
    },
    {
      "cell_type": "markdown",
      "metadata": {
        "id": "bBIlTPscrIT9"
      },
      "source": [
        "<table class=\"tfo-notebook-buttons\" align=\"left\">\n",
        "  <td>\n",
        "    <a target=\"_blank\" href=\"https://www.tensorflow.org/tutorials/keras/regression\"><img src=\"https://www.tensorflow.org/images/tf_logo_32px.png\" />View on TensorFlow.org</a>\n",
        "  </td>\n",
        "  <td>\n",
        "    <a target=\"_blank\" href=\"https://colab.research.google.com/github/tensorflow/docs/blob/master/site/en/tutorials/keras/regression.ipynb\"><img src=\"https://www.tensorflow.org/images/colab_logo_32px.png\" />Run in Google Colab</a>\n",
        "  </td>\n",
        "  <td>\n",
        "    <a target=\"_blank\" href=\"https://github.com/tensorflow/docs/blob/master/site/en/tutorials/keras/regression.ipynb\"><img src=\"https://www.tensorflow.org/images/GitHub-Mark-32px.png\" />View source on GitHub</a>\n",
        "  </td>\n",
        "  <td>\n",
        "    <a href=\"https://storage.googleapis.com/tensorflow_docs/docs/site/en/tutorials/keras/regression.ipynb\"><img src=\"https://www.tensorflow.org/images/download_logo_32px.png\" />Download notebook</a>\n",
        "  </td>\n",
        "</table>"
      ]
    },
    {
      "cell_type": "code",
      "metadata": {
        "id": "1rRo8oNqZ-Rj"
      },
      "source": [
        "import matplotlib.pyplot as plt\n",
        "import numpy as np\n",
        "import pandas as pd\n",
        "import seaborn as sns\n",
        "\n",
        "\n",
        "# Make numpy printouts easier to read.\n",
        "np.set_printoptions(precision=3, suppress=True)"
      ],
      "execution_count": null,
      "outputs": []
    },
    {
      "cell_type": "code",
      "metadata": {
        "id": "9xQKvCJ85kCQ",
        "colab": {
          "base_uri": "https://localhost:8080/"
        },
        "outputId": "899dfd5a-3cfc-4004-f140-e9eb8a00dabe"
      },
      "source": [
        "!pip install -q -U tensorflow-addons\n",
        "\n",
        "import tensorflow as tf\n",
        "import tensorflow_addons as tfa\n",
        "\n",
        "from tensorflow import keras\n",
        "from tensorflow.keras import layers\n",
        "from tensorflow.keras.layers.experimental import preprocessing\n",
        "\n",
        "print(tf.__version__)"
      ],
      "execution_count": null,
      "outputs": [
        {
          "output_type": "stream",
          "text": [
            "2.3.1\n"
          ],
          "name": "stdout"
        }
      ]
    },
    {
      "cell_type": "markdown",
      "metadata": {
        "id": "gFh9ne3FZ-On"
      },
      "source": [
        "### Get the data\n",
        "Training and testing data\n"
      ]
    },
    {
      "cell_type": "code",
      "metadata": {
        "id": "CiX2FI4gZtTt"
      },
      "source": [
        "input = {'lean_angle':[71.3, \t82.6, \t91.5, \t103.2, \t85.0, \t59.3, 81.2, \t97.8, \t0,\t\t15.2,\t30,\t\t21.3],\n",
        "           'acceleration X':[2.2, 0.1, 3.1, 2.7, 1.4, 1.0, 0.1,\t0, 6, 0.3, 0.6, 0.5],\n",
        "           'acceleration Y':[0.5,\t 3.5, \t0.2, \t\t0.3, \t\t1.6,\t\t 0.1, 0.1,\t\t0.3,\t\t0.4,\t\t5,\t\t0.3,\t\t0.5]}\n",
        "output = {'crash':[1, \t1,\t\t 1,\t\t 1, \t\t1, \t\t 0,   0, \t\t0, \t\t1,\t\t1,\t\t0,\t\t0]}\n",
        "\n",
        "test_in = {'lean_angle':[30, \t45, \t20, \t10, 90],\n",
        "           'acceleration X':[0.6, 1.0, 0.3, 8, 0.2],\n",
        "           'acceleration Y':[0.5,\t 0.1, 0.5,\t0.1, 3]}\n",
        "test_out = {'crash':[0, 0, 0, 1, 1]}\n",
        "\n",
        "\n",
        "input_dataset = pd.DataFrame(input)\n",
        "output_dataset = pd.DataFrame(output)\n",
        "\n",
        "test_data_in = pd.DataFrame(test_in)\n",
        "test_data_out = pd.DataFrame(test_out)"
      ],
      "execution_count": null,
      "outputs": []
    },
    {
      "cell_type": "markdown",
      "metadata": {
        "id": "J4ubs136WLNp"
      },
      "source": [
        "### Inspect the data\n"
      ]
    },
    {
      "cell_type": "code",
      "metadata": {
        "id": "yi2FzC3T21jR",
        "colab": {
          "base_uri": "https://localhost:8080/",
          "height": 80
        },
        "outputId": "19005154-04ed-489e-fb78-9ca3782bfb78"
      },
      "source": [
        "output_dataset.describe().transpose()"
      ],
      "execution_count": null,
      "outputs": [
        {
          "output_type": "execute_result",
          "data": {
            "text/html": [
              "<div>\n",
              "<style scoped>\n",
              "    .dataframe tbody tr th:only-of-type {\n",
              "        vertical-align: middle;\n",
              "    }\n",
              "\n",
              "    .dataframe tbody tr th {\n",
              "        vertical-align: top;\n",
              "    }\n",
              "\n",
              "    .dataframe thead th {\n",
              "        text-align: right;\n",
              "    }\n",
              "</style>\n",
              "<table border=\"1\" class=\"dataframe\">\n",
              "  <thead>\n",
              "    <tr style=\"text-align: right;\">\n",
              "      <th></th>\n",
              "      <th>count</th>\n",
              "      <th>mean</th>\n",
              "      <th>std</th>\n",
              "      <th>min</th>\n",
              "      <th>25%</th>\n",
              "      <th>50%</th>\n",
              "      <th>75%</th>\n",
              "      <th>max</th>\n",
              "    </tr>\n",
              "  </thead>\n",
              "  <tbody>\n",
              "    <tr>\n",
              "      <th>crash</th>\n",
              "      <td>12.0</td>\n",
              "      <td>0.583333</td>\n",
              "      <td>0.514929</td>\n",
              "      <td>0.0</td>\n",
              "      <td>0.0</td>\n",
              "      <td>1.0</td>\n",
              "      <td>1.0</td>\n",
              "      <td>1.0</td>\n",
              "    </tr>\n",
              "  </tbody>\n",
              "</table>\n",
              "</div>"
            ],
            "text/plain": [
              "       count      mean       std  min  25%  50%  75%  max\n",
              "crash   12.0  0.583333  0.514929  0.0  0.0  1.0  1.0  1.0"
            ]
          },
          "metadata": {
            "tags": []
          },
          "execution_count": 6
        }
      ]
    },
    {
      "cell_type": "markdown",
      "metadata": {
        "id": "mRklxK5s388r"
      },
      "source": [
        "## Normalization"
      ]
    },
    {
      "cell_type": "markdown",
      "metadata": {
        "id": "1ITPZLH4ZDOr"
      },
      "source": [
        "Ideally, data would be normalized using Tensorflow preprocessing normalization, however, frugally-deep does not support this."
      ]
    },
    {
      "cell_type": "code",
      "metadata": {
        "id": "JlC5ooJrgjQF"
      },
      "source": [
        "normalizer = preprocessing.Normalization(input_shape=(3,))"
      ],
      "execution_count": null,
      "outputs": []
    },
    {
      "cell_type": "code",
      "metadata": {
        "id": "CrBbbjbwV91f"
      },
      "source": [
        "normalizer.adapt(np.array(input_dataset))"
      ],
      "execution_count": null,
      "outputs": []
    },
    {
      "cell_type": "markdown",
      "metadata": {
        "id": "oZccMR5yV9YV"
      },
      "source": [
        "This calculates the mean and variance, and stores them in the layer. "
      ]
    },
    {
      "cell_type": "code",
      "metadata": {
        "id": "GGn-ukwxSPtx",
        "colab": {
          "base_uri": "https://localhost:8080/"
        },
        "outputId": "ccfb1d88-606b-44ef-85f0-3a37969bf022"
      },
      "source": [
        "print(normalizer.mean.numpy())"
      ],
      "execution_count": null,
      "outputs": [
        {
          "output_type": "stream",
          "text": [
            "[61.533  1.5    1.067]\n"
          ],
          "name": "stdout"
        }
      ]
    },
    {
      "cell_type": "markdown",
      "metadata": {
        "id": "oGWKaF9GSRuN"
      },
      "source": [
        "When the layer is called it returns the input data, with each feature independently normalized:"
      ]
    },
    {
      "cell_type": "code",
      "metadata": {
        "id": "2l7zFL_XWIRu",
        "colab": {
          "base_uri": "https://localhost:8080/"
        },
        "outputId": "454293c4-c955-4507-9533-3c6bd91d27d5"
      },
      "source": [
        "first = np.array(input_dataset[:1])\n",
        "\n",
        "with np.printoptions(precision=2, suppress=True):\n",
        "  print('First example:', first)\n",
        "  print()\n",
        "  print('Normalized:', normalizer(first).numpy())"
      ],
      "execution_count": null,
      "outputs": [
        {
          "output_type": "stream",
          "text": [
            "First example: [[71.3  2.2  0.5]]\n",
            "\n",
            "Normalized: [[ 0.29  0.41 -0.38]]\n"
          ],
          "name": "stdout"
        }
      ]
    },
    {
      "cell_type": "markdown",
      "metadata": {
        "id": "SmjdzxKzEu1-"
      },
      "source": [
        "## A DNN regression\n",
        "To overcome frugally-deep's limitations the normalization is replaced with a BatchNormalization after the input layer."
      ]
    },
    {
      "cell_type": "code",
      "metadata": {
        "id": "c26juK7ZG8j-"
      },
      "source": [
        "def build_and_compile_model(norm):\n",
        "  model = keras.Sequential([\n",
        "      layers.InputLayer(input_shape=(3,)),\n",
        "      layers.BatchNormalization(),\n",
        "      layers.Dense(16, activation='relu'),\n",
        "      layers.Dense(1, activation= 'sigmoid')\n",
        "  ])\n",
        "\n",
        "  model.compile(loss='mean_absolute_error',\n",
        "                optimizer=tf.keras.optimizers.Adam(0.1), metrics = ['accuracy'])\n",
        "  return model"
      ],
      "execution_count": null,
      "outputs": []
    },
    {
      "cell_type": "code",
      "metadata": {
        "id": "c0mhscXh2k36",
        "colab": {
          "base_uri": "https://localhost:8080/"
        },
        "outputId": "6ec86959-c4cf-4b68-c7a9-76cf7d0c0280"
      },
      "source": [
        "dnn_model = build_and_compile_model(normalizer)\n",
        "dnn_model.summary()"
      ],
      "execution_count": null,
      "outputs": [
        {
          "output_type": "stream",
          "text": [
            "Model: \"sequential_47\"\n",
            "_________________________________________________________________\n",
            "Layer (type)                 Output Shape              Param #   \n",
            "=================================================================\n",
            "batch_normalization_4 (Batch (None, 3)                 12        \n",
            "_________________________________________________________________\n",
            "dense_144 (Dense)            (None, 16)                64        \n",
            "_________________________________________________________________\n",
            "dense_145 (Dense)            (None, 1)                 17        \n",
            "=================================================================\n",
            "Total params: 93\n",
            "Trainable params: 87\n",
            "Non-trainable params: 6\n",
            "_________________________________________________________________\n"
          ],
          "name": "stdout"
        }
      ]
    },
    {
      "cell_type": "code",
      "metadata": {
        "id": "CXDENACl2tuW",
        "colab": {
          "base_uri": "https://localhost:8080/"
        },
        "outputId": "3329a234-10f4-495d-e2fd-ab28ada74818"
      },
      "source": [
        "%%time\n",
        "history = dnn_model.fit(\n",
        "    input_dataset, output_dataset,\n",
        "    validation_split=0.2,\n",
        "    verbose=1, epochs=100,batch_size=10,validation_batch_size=2)"
      ],
      "execution_count": null,
      "outputs": [
        {
          "output_type": "stream",
          "text": [
            "Epoch 1/100\n",
            "1/1 [==============================] - 0s 51ms/step - loss: 5.9698e-12 - accuracy: 1.0000 - val_loss: 0.1589 - val_accuracy: 1.0000\n",
            "Epoch 2/100\n",
            "1/1 [==============================] - 0s 17ms/step - loss: 5.9681e-12 - accuracy: 1.0000 - val_loss: 0.1368 - val_accuracy: 1.0000\n",
            "Epoch 3/100\n",
            "1/1 [==============================] - 0s 18ms/step - loss: 5.9667e-12 - accuracy: 1.0000 - val_loss: 0.1162 - val_accuracy: 1.0000\n",
            "Epoch 4/100\n",
            "1/1 [==============================] - 0s 16ms/step - loss: 5.9653e-12 - accuracy: 1.0000 - val_loss: 0.0975 - val_accuracy: 1.0000\n",
            "Epoch 5/100\n",
            "1/1 [==============================] - 0s 16ms/step - loss: 5.9641e-12 - accuracy: 1.0000 - val_loss: 0.0809 - val_accuracy: 1.0000\n",
            "Epoch 6/100\n",
            "1/1 [==============================] - 0s 20ms/step - loss: 5.9630e-12 - accuracy: 1.0000 - val_loss: 0.0666 - val_accuracy: 1.0000\n",
            "Epoch 7/100\n",
            "1/1 [==============================] - 0s 18ms/step - loss: 5.9620e-12 - accuracy: 1.0000 - val_loss: 0.0544 - val_accuracy: 1.0000\n",
            "Epoch 8/100\n",
            "1/1 [==============================] - 0s 17ms/step - loss: 5.9611e-12 - accuracy: 1.0000 - val_loss: 0.0442 - val_accuracy: 1.0000\n",
            "Epoch 9/100\n",
            "1/1 [==============================] - 0s 15ms/step - loss: 5.9603e-12 - accuracy: 1.0000 - val_loss: 0.0358 - val_accuracy: 1.0000\n",
            "Epoch 10/100\n",
            "1/1 [==============================] - 0s 16ms/step - loss: 5.9595e-12 - accuracy: 1.0000 - val_loss: 0.0289 - val_accuracy: 1.0000\n",
            "Epoch 11/100\n",
            "1/1 [==============================] - 0s 16ms/step - loss: 5.9589e-12 - accuracy: 1.0000 - val_loss: 0.0233 - val_accuracy: 1.0000\n",
            "Epoch 12/100\n",
            "1/1 [==============================] - 0s 14ms/step - loss: 5.9583e-12 - accuracy: 1.0000 - val_loss: 0.0188 - val_accuracy: 1.0000\n",
            "Epoch 13/100\n",
            "1/1 [==============================] - 0s 16ms/step - loss: 5.9577e-12 - accuracy: 1.0000 - val_loss: 0.0151 - val_accuracy: 1.0000\n",
            "Epoch 14/100\n",
            "1/1 [==============================] - 0s 14ms/step - loss: 5.9572e-12 - accuracy: 1.0000 - val_loss: 0.0122 - val_accuracy: 1.0000\n",
            "Epoch 15/100\n",
            "1/1 [==============================] - 0s 15ms/step - loss: 5.9568e-12 - accuracy: 1.0000 - val_loss: 0.0098 - val_accuracy: 1.0000\n",
            "Epoch 16/100\n",
            "1/1 [==============================] - 0s 17ms/step - loss: 5.9563e-12 - accuracy: 1.0000 - val_loss: 0.0079 - val_accuracy: 1.0000\n",
            "Epoch 17/100\n",
            "1/1 [==============================] - 0s 19ms/step - loss: 5.9560e-12 - accuracy: 1.0000 - val_loss: 0.0064 - val_accuracy: 1.0000\n",
            "Epoch 18/100\n",
            "1/1 [==============================] - 0s 15ms/step - loss: 5.9557e-12 - accuracy: 1.0000 - val_loss: 0.0052 - val_accuracy: 1.0000\n",
            "Epoch 19/100\n",
            "1/1 [==============================] - 0s 14ms/step - loss: 5.9553e-12 - accuracy: 1.0000 - val_loss: 0.0042 - val_accuracy: 1.0000\n",
            "Epoch 20/100\n",
            "1/1 [==============================] - 0s 15ms/step - loss: 5.9551e-12 - accuracy: 1.0000 - val_loss: 0.0034 - val_accuracy: 1.0000\n",
            "Epoch 21/100\n",
            "1/1 [==============================] - 0s 17ms/step - loss: 5.9549e-12 - accuracy: 1.0000 - val_loss: 0.0028 - val_accuracy: 1.0000\n",
            "Epoch 22/100\n",
            "1/1 [==============================] - 0s 17ms/step - loss: 5.9546e-12 - accuracy: 1.0000 - val_loss: 0.0023 - val_accuracy: 1.0000\n",
            "Epoch 23/100\n",
            "1/1 [==============================] - 0s 19ms/step - loss: 5.9544e-12 - accuracy: 1.0000 - val_loss: 0.0018 - val_accuracy: 1.0000\n",
            "Epoch 24/100\n",
            "1/1 [==============================] - 0s 25ms/step - loss: 5.9542e-12 - accuracy: 1.0000 - val_loss: 0.0015 - val_accuracy: 1.0000\n",
            "Epoch 25/100\n",
            "1/1 [==============================] - 0s 18ms/step - loss: 5.9541e-12 - accuracy: 1.0000 - val_loss: 0.0012 - val_accuracy: 1.0000\n",
            "Epoch 26/100\n",
            "1/1 [==============================] - 0s 16ms/step - loss: 5.9540e-12 - accuracy: 1.0000 - val_loss: 0.0010 - val_accuracy: 1.0000\n",
            "Epoch 27/100\n",
            "1/1 [==============================] - 0s 18ms/step - loss: 5.9538e-12 - accuracy: 1.0000 - val_loss: 8.4291e-04 - val_accuracy: 1.0000\n",
            "Epoch 28/100\n",
            "1/1 [==============================] - 0s 17ms/step - loss: 5.9537e-12 - accuracy: 1.0000 - val_loss: 6.9625e-04 - val_accuracy: 1.0000\n",
            "Epoch 29/100\n",
            "1/1 [==============================] - 0s 17ms/step - loss: 5.9536e-12 - accuracy: 1.0000 - val_loss: 5.7631e-04 - val_accuracy: 1.0000\n",
            "Epoch 30/100\n",
            "1/1 [==============================] - 0s 16ms/step - loss: 5.9535e-12 - accuracy: 1.0000 - val_loss: 4.7805e-04 - val_accuracy: 1.0000\n",
            "Epoch 31/100\n",
            "1/1 [==============================] - 0s 15ms/step - loss: 5.9534e-12 - accuracy: 1.0000 - val_loss: 3.9733e-04 - val_accuracy: 1.0000\n",
            "Epoch 32/100\n",
            "1/1 [==============================] - 0s 16ms/step - loss: 5.9533e-12 - accuracy: 1.0000 - val_loss: 3.3096e-04 - val_accuracy: 1.0000\n",
            "Epoch 33/100\n",
            "1/1 [==============================] - 0s 17ms/step - loss: 5.9532e-12 - accuracy: 1.0000 - val_loss: 2.7619e-04 - val_accuracy: 1.0000\n",
            "Epoch 34/100\n",
            "1/1 [==============================] - 0s 16ms/step - loss: 5.9532e-12 - accuracy: 1.0000 - val_loss: 2.3098e-04 - val_accuracy: 1.0000\n",
            "Epoch 35/100\n",
            "1/1 [==============================] - 0s 15ms/step - loss: 5.9531e-12 - accuracy: 1.0000 - val_loss: 1.9356e-04 - val_accuracy: 1.0000\n",
            "Epoch 36/100\n",
            "1/1 [==============================] - 0s 15ms/step - loss: 5.9531e-12 - accuracy: 1.0000 - val_loss: 1.6249e-04 - val_accuracy: 1.0000\n",
            "Epoch 37/100\n",
            "1/1 [==============================] - 0s 18ms/step - loss: 5.9530e-12 - accuracy: 1.0000 - val_loss: 1.3672e-04 - val_accuracy: 1.0000\n",
            "Epoch 38/100\n",
            "1/1 [==============================] - 0s 16ms/step - loss: 5.9530e-12 - accuracy: 1.0000 - val_loss: 1.1524e-04 - val_accuracy: 1.0000\n",
            "Epoch 39/100\n",
            "1/1 [==============================] - 0s 18ms/step - loss: 5.9529e-12 - accuracy: 1.0000 - val_loss: 9.7313e-05 - val_accuracy: 1.0000\n",
            "Epoch 40/100\n",
            "1/1 [==============================] - 0s 18ms/step - loss: 5.9529e-12 - accuracy: 1.0000 - val_loss: 8.2336e-05 - val_accuracy: 1.0000\n",
            "Epoch 41/100\n",
            "1/1 [==============================] - 0s 17ms/step - loss: 5.9528e-12 - accuracy: 1.0000 - val_loss: 6.9773e-05 - val_accuracy: 1.0000\n",
            "Epoch 42/100\n",
            "1/1 [==============================] - 0s 18ms/step - loss: 5.9528e-12 - accuracy: 1.0000 - val_loss: 5.9273e-05 - val_accuracy: 1.0000\n",
            "Epoch 43/100\n",
            "1/1 [==============================] - 0s 19ms/step - loss: 5.9528e-12 - accuracy: 1.0000 - val_loss: 5.0402e-05 - val_accuracy: 1.0000\n",
            "Epoch 44/100\n",
            "1/1 [==============================] - 0s 18ms/step - loss: 5.9528e-12 - accuracy: 1.0000 - val_loss: 4.2949e-05 - val_accuracy: 1.0000\n",
            "Epoch 45/100\n",
            "1/1 [==============================] - 0s 16ms/step - loss: 5.9527e-12 - accuracy: 1.0000 - val_loss: 3.6682e-05 - val_accuracy: 1.0000\n",
            "Epoch 46/100\n",
            "1/1 [==============================] - 0s 17ms/step - loss: 5.9527e-12 - accuracy: 1.0000 - val_loss: 3.1372e-05 - val_accuracy: 1.0000\n",
            "Epoch 47/100\n",
            "1/1 [==============================] - 0s 18ms/step - loss: 5.9527e-12 - accuracy: 1.0000 - val_loss: 2.6878e-05 - val_accuracy: 1.0000\n",
            "Epoch 48/100\n",
            "1/1 [==============================] - 0s 17ms/step - loss: 5.9527e-12 - accuracy: 1.0000 - val_loss: 2.3066e-05 - val_accuracy: 1.0000\n",
            "Epoch 49/100\n",
            "1/1 [==============================] - 0s 17ms/step - loss: 5.9527e-12 - accuracy: 1.0000 - val_loss: 1.9829e-05 - val_accuracy: 1.0000\n",
            "Epoch 50/100\n",
            "1/1 [==============================] - 0s 16ms/step - loss: 5.9527e-12 - accuracy: 1.0000 - val_loss: 1.7074e-05 - val_accuracy: 1.0000\n",
            "Epoch 51/100\n",
            "1/1 [==============================] - 0s 17ms/step - loss: 5.9527e-12 - accuracy: 1.0000 - val_loss: 1.4726e-05 - val_accuracy: 1.0000\n",
            "Epoch 52/100\n",
            "1/1 [==============================] - 0s 20ms/step - loss: 5.9527e-12 - accuracy: 1.0000 - val_loss: 1.2722e-05 - val_accuracy: 1.0000\n",
            "Epoch 53/100\n",
            "1/1 [==============================] - 0s 16ms/step - loss: 5.9527e-12 - accuracy: 1.0000 - val_loss: 1.1009e-05 - val_accuracy: 1.0000\n",
            "Epoch 54/100\n",
            "1/1 [==============================] - 0s 17ms/step - loss: 5.9527e-12 - accuracy: 1.0000 - val_loss: 9.5408e-06 - val_accuracy: 1.0000\n",
            "Epoch 55/100\n",
            "1/1 [==============================] - 0s 17ms/step - loss: 5.9527e-12 - accuracy: 1.0000 - val_loss: 8.2817e-06 - val_accuracy: 1.0000\n",
            "Epoch 56/100\n",
            "1/1 [==============================] - 0s 21ms/step - loss: 5.9527e-12 - accuracy: 1.0000 - val_loss: 7.2000e-06 - val_accuracy: 1.0000\n",
            "Epoch 57/100\n",
            "1/1 [==============================] - 0s 16ms/step - loss: 5.9527e-12 - accuracy: 1.0000 - val_loss: 6.2692e-06 - val_accuracy: 1.0000\n",
            "Epoch 58/100\n",
            "1/1 [==============================] - 0s 17ms/step - loss: 5.9527e-12 - accuracy: 1.0000 - val_loss: 5.4669e-06 - val_accuracy: 1.0000\n",
            "Epoch 59/100\n",
            "1/1 [==============================] - 0s 17ms/step - loss: 5.9527e-12 - accuracy: 1.0000 - val_loss: 4.7745e-06 - val_accuracy: 1.0000\n",
            "Epoch 60/100\n",
            "1/1 [==============================] - 0s 17ms/step - loss: 5.9527e-12 - accuracy: 1.0000 - val_loss: 4.1759e-06 - val_accuracy: 1.0000\n",
            "Epoch 61/100\n",
            "1/1 [==============================] - 0s 16ms/step - loss: 5.9527e-12 - accuracy: 1.0000 - val_loss: 3.6577e-06 - val_accuracy: 1.0000\n",
            "Epoch 62/100\n",
            "1/1 [==============================] - 0s 16ms/step - loss: 5.9527e-12 - accuracy: 1.0000 - val_loss: 3.2084e-06 - val_accuracy: 1.0000\n",
            "Epoch 63/100\n",
            "1/1 [==============================] - 0s 20ms/step - loss: 5.9527e-12 - accuracy: 1.0000 - val_loss: 2.8184e-06 - val_accuracy: 1.0000\n",
            "Epoch 64/100\n",
            "1/1 [==============================] - 0s 19ms/step - loss: 5.9527e-12 - accuracy: 1.0000 - val_loss: 2.4792e-06 - val_accuracy: 1.0000\n",
            "Epoch 65/100\n",
            "1/1 [==============================] - 0s 18ms/step - loss: 5.9527e-12 - accuracy: 1.0000 - val_loss: 2.1839e-06 - val_accuracy: 1.0000\n",
            "Epoch 66/100\n",
            "1/1 [==============================] - 0s 20ms/step - loss: 5.9527e-12 - accuracy: 1.0000 - val_loss: 1.9265e-06 - val_accuracy: 1.0000\n",
            "Epoch 67/100\n",
            "1/1 [==============================] - 0s 19ms/step - loss: 5.9527e-12 - accuracy: 1.0000 - val_loss: 1.7016e-06 - val_accuracy: 1.0000\n",
            "Epoch 68/100\n",
            "1/1 [==============================] - 0s 16ms/step - loss: 5.9527e-12 - accuracy: 1.0000 - val_loss: 1.5051e-06 - val_accuracy: 1.0000\n",
            "Epoch 69/100\n",
            "1/1 [==============================] - 0s 22ms/step - loss: 5.9527e-12 - accuracy: 1.0000 - val_loss: 1.3330e-06 - val_accuracy: 1.0000\n",
            "Epoch 70/100\n",
            "1/1 [==============================] - 0s 17ms/step - loss: 5.9527e-12 - accuracy: 1.0000 - val_loss: 1.1821e-06 - val_accuracy: 1.0000\n",
            "Epoch 71/100\n",
            "1/1 [==============================] - 0s 18ms/step - loss: 5.9527e-12 - accuracy: 1.0000 - val_loss: 1.0497e-06 - val_accuracy: 1.0000\n",
            "Epoch 72/100\n",
            "1/1 [==============================] - 0s 17ms/step - loss: 5.9527e-12 - accuracy: 1.0000 - val_loss: 9.3332e-07 - val_accuracy: 1.0000\n",
            "Epoch 73/100\n",
            "1/1 [==============================] - 0s 21ms/step - loss: 5.9527e-12 - accuracy: 1.0000 - val_loss: 8.3088e-07 - val_accuracy: 1.0000\n",
            "Epoch 74/100\n",
            "1/1 [==============================] - 0s 18ms/step - loss: 5.9527e-12 - accuracy: 1.0000 - val_loss: 7.4062e-07 - val_accuracy: 1.0000\n",
            "Epoch 75/100\n",
            "1/1 [==============================] - 0s 16ms/step - loss: 5.9527e-12 - accuracy: 1.0000 - val_loss: 6.6098e-07 - val_accuracy: 1.0000\n",
            "Epoch 76/100\n",
            "1/1 [==============================] - 0s 16ms/step - loss: 5.9527e-12 - accuracy: 1.0000 - val_loss: 5.9062e-07 - val_accuracy: 1.0000\n",
            "Epoch 77/100\n",
            "1/1 [==============================] - 0s 19ms/step - loss: 5.9527e-12 - accuracy: 1.0000 - val_loss: 5.2839e-07 - val_accuracy: 1.0000\n",
            "Epoch 78/100\n",
            "1/1 [==============================] - 0s 18ms/step - loss: 5.9527e-12 - accuracy: 1.0000 - val_loss: 4.7328e-07 - val_accuracy: 1.0000\n",
            "Epoch 79/100\n",
            "1/1 [==============================] - 0s 17ms/step - loss: 5.9527e-12 - accuracy: 1.0000 - val_loss: 4.2442e-07 - val_accuracy: 1.0000\n",
            "Epoch 80/100\n",
            "1/1 [==============================] - 0s 18ms/step - loss: 5.9527e-12 - accuracy: 1.0000 - val_loss: 3.8105e-07 - val_accuracy: 1.0000\n",
            "Epoch 81/100\n",
            "1/1 [==============================] - 0s 19ms/step - loss: 5.9527e-12 - accuracy: 1.0000 - val_loss: 3.4251e-07 - val_accuracy: 1.0000\n",
            "Epoch 82/100\n",
            "1/1 [==============================] - 0s 18ms/step - loss: 5.9527e-12 - accuracy: 1.0000 - val_loss: 3.0822e-07 - val_accuracy: 1.0000\n",
            "Epoch 83/100\n",
            "1/1 [==============================] - 0s 17ms/step - loss: 5.9527e-12 - accuracy: 1.0000 - val_loss: 2.7767e-07 - val_accuracy: 1.0000\n",
            "Epoch 84/100\n",
            "1/1 [==============================] - 0s 20ms/step - loss: 5.9527e-12 - accuracy: 1.0000 - val_loss: 2.5043e-07 - val_accuracy: 1.0000\n",
            "Epoch 85/100\n",
            "1/1 [==============================] - 0s 22ms/step - loss: 5.9527e-12 - accuracy: 1.0000 - val_loss: 2.2611e-07 - val_accuracy: 1.0000\n",
            "Epoch 86/100\n",
            "1/1 [==============================] - 0s 20ms/step - loss: 5.9527e-12 - accuracy: 1.0000 - val_loss: 2.0438e-07 - val_accuracy: 1.0000\n",
            "Epoch 87/100\n",
            "1/1 [==============================] - 0s 19ms/step - loss: 5.9527e-12 - accuracy: 1.0000 - val_loss: 1.8493e-07 - val_accuracy: 1.0000\n",
            "Epoch 88/100\n",
            "1/1 [==============================] - 0s 20ms/step - loss: 5.9527e-12 - accuracy: 1.0000 - val_loss: 1.6752e-07 - val_accuracy: 1.0000\n",
            "Epoch 89/100\n",
            "1/1 [==============================] - 0s 20ms/step - loss: 5.9527e-12 - accuracy: 1.0000 - val_loss: 1.5192e-07 - val_accuracy: 1.0000\n",
            "Epoch 90/100\n",
            "1/1 [==============================] - 0s 19ms/step - loss: 5.9527e-12 - accuracy: 1.0000 - val_loss: 1.3791e-07 - val_accuracy: 1.0000\n",
            "Epoch 91/100\n",
            "1/1 [==============================] - 0s 16ms/step - loss: 5.9527e-12 - accuracy: 1.0000 - val_loss: 1.2533e-07 - val_accuracy: 1.0000\n",
            "Epoch 92/100\n",
            "1/1 [==============================] - 0s 16ms/step - loss: 5.9527e-12 - accuracy: 1.0000 - val_loss: 1.1401e-07 - val_accuracy: 1.0000\n",
            "Epoch 93/100\n",
            "1/1 [==============================] - 0s 18ms/step - loss: 5.9527e-12 - accuracy: 1.0000 - val_loss: 1.0382e-07 - val_accuracy: 1.0000\n",
            "Epoch 94/100\n",
            "1/1 [==============================] - 0s 18ms/step - loss: 5.9527e-12 - accuracy: 1.0000 - val_loss: 9.4630e-08 - val_accuracy: 1.0000\n",
            "Epoch 95/100\n",
            "1/1 [==============================] - 0s 19ms/step - loss: 5.9527e-12 - accuracy: 1.0000 - val_loss: 8.6340e-08 - val_accuracy: 1.0000\n",
            "Epoch 96/100\n",
            "1/1 [==============================] - 0s 19ms/step - loss: 5.9527e-12 - accuracy: 1.0000 - val_loss: 7.8853e-08 - val_accuracy: 1.0000\n",
            "Epoch 97/100\n",
            "1/1 [==============================] - 0s 19ms/step - loss: 5.9526e-12 - accuracy: 1.0000 - val_loss: 7.2084e-08 - val_accuracy: 1.0000\n",
            "Epoch 98/100\n",
            "1/1 [==============================] - 0s 16ms/step - loss: 5.9527e-12 - accuracy: 1.0000 - val_loss: 6.5959e-08 - val_accuracy: 1.0000\n",
            "Epoch 99/100\n",
            "1/1 [==============================] - 0s 16ms/step - loss: 5.9527e-12 - accuracy: 1.0000 - val_loss: 6.0412e-08 - val_accuracy: 1.0000\n",
            "Epoch 100/100\n",
            "1/1 [==============================] - 0s 16ms/step - loss: 5.9527e-12 - accuracy: 1.0000 - val_loss: 5.5382e-08 - val_accuracy: 1.0000\n",
            "CPU times: user 2.14 s, sys: 128 ms, total: 2.27 s\n",
            "Wall time: 2.39 s\n"
          ],
          "name": "stdout"
        }
      ]
    },
    {
      "cell_type": "markdown",
      "metadata": {
        "id": "hWoVYS34fJPZ"
      },
      "source": [
        "Collect the results on the test set:"
      ]
    },
    {
      "cell_type": "code",
      "metadata": {
        "id": "-bZIa96W3c7K",
        "colab": {
          "base_uri": "https://localhost:8080/"
        },
        "outputId": "88c2ae96-977b-4c8d-c716-057560619a07"
      },
      "source": [
        "test_results = dnn_model.evaluate(test_data_in, test_data_out, verbose=1)"
      ],
      "execution_count": null,
      "outputs": [
        {
          "output_type": "stream",
          "text": [
            "1/1 [==============================] - 0s 1ms/step - loss: 4.3730e-07 - accuracy: 1.0000\n"
          ],
          "name": "stdout"
        }
      ]
    },
    {
      "cell_type": "markdown",
      "metadata": {
        "id": "uiCucdPLfMkZ"
      },
      "source": [
        "## Performance"
      ]
    },
    {
      "cell_type": "code",
      "metadata": {
        "id": "e5_ooufM5iH2",
        "colab": {
          "base_uri": "https://localhost:8080/",
          "height": 112
        },
        "outputId": "3ff865ae-ed67-4ebc-e569-a4ee329363c1"
      },
      "source": [
        "pd.DataFrame(test_results)"
      ],
      "execution_count": null,
      "outputs": [
        {
          "output_type": "execute_result",
          "data": {
            "text/html": [
              "<div>\n",
              "<style scoped>\n",
              "    .dataframe tbody tr th:only-of-type {\n",
              "        vertical-align: middle;\n",
              "    }\n",
              "\n",
              "    .dataframe tbody tr th {\n",
              "        vertical-align: top;\n",
              "    }\n",
              "\n",
              "    .dataframe thead th {\n",
              "        text-align: right;\n",
              "    }\n",
              "</style>\n",
              "<table border=\"1\" class=\"dataframe\">\n",
              "  <thead>\n",
              "    <tr style=\"text-align: right;\">\n",
              "      <th></th>\n",
              "      <th>0</th>\n",
              "    </tr>\n",
              "  </thead>\n",
              "  <tbody>\n",
              "    <tr>\n",
              "      <th>0</th>\n",
              "      <td>4.373041e-07</td>\n",
              "    </tr>\n",
              "    <tr>\n",
              "      <th>1</th>\n",
              "      <td>1.000000e+00</td>\n",
              "    </tr>\n",
              "  </tbody>\n",
              "</table>\n",
              "</div>"
            ],
            "text/plain": [
              "              0\n",
              "0  4.373041e-07\n",
              "1  1.000000e+00"
            ]
          },
          "metadata": {
            "tags": []
          },
          "execution_count": 249
        }
      ]
    },
    {
      "cell_type": "markdown",
      "metadata": {
        "id": "ft603OzXuEZC"
      },
      "source": [
        "### Make predictions"
      ]
    },
    {
      "cell_type": "code",
      "metadata": {
        "id": "Xe7RXH3N3CWU",
        "colab": {
          "base_uri": "https://localhost:8080/",
          "height": 265
        },
        "outputId": "aaf33834-8582-47e7-9362-5c0d11edc166"
      },
      "source": [
        "test_predictions = dnn_model.predict(test_data_in).flatten()\n",
        "\n",
        "a = plt.axes(aspect='equal')\n",
        "plt.scatter(test_data_out, test_predictions)\n",
        "\n",
        "_ = plt.plot()"
      ],
      "execution_count": null,
      "outputs": [
        {
          "output_type": "display_data",
          "data": {
            "image/png": "[encoded data removed]",
            "text/plain": [
              "<Figure size 432x288 with 1 Axes>"
            ]
          },
          "metadata": {
            "tags": [],
            "needs_background": "light"
          }
        }
      ]
    },
    {
      "cell_type": "code",
      "metadata": {
        "id": "4-WwLlmfT-mb",
        "colab": {
          "base_uri": "https://localhost:8080/"
        },
        "outputId": "0d988580-63b9-4eb3-9579-5542653d3e09"
      },
      "source": [
        "from keras.models import load_model\n",
        "dnn_model.save('dnn_model.h5', include_optimizer=False)\n",
        "dnn_model.summary()"
      ],
      "execution_count": null,
      "outputs": [
        {
          "output_type": "stream",
          "text": [
            "Model: \"sequential_47\"\n",
            "_________________________________________________________________\n",
            "Layer (type)                 Output Shape              Param #   \n",
            "=================================================================\n",
            "batch_normalization_4 (Batch (None, 3)                 12        \n",
            "_________________________________________________________________\n",
            "dense_144 (Dense)            (None, 16)                64        \n",
            "_________________________________________________________________\n",
            "dense_145 (Dense)            (None, 1)                 17        \n",
            "=================================================================\n",
            "Total params: 93\n",
            "Trainable params: 87\n",
            "Non-trainable params: 6\n",
            "_________________________________________________________________\n"
          ],
          "name": "stdout"
        }
      ]
    },
    {
      "cell_type": "markdown",
      "metadata": {
        "id": "iTr3yAVuZu6e"
      },
      "source": [
        "Save the model which will later be converted to frugally-deep's json model format"
      ]
    },
    {
      "cell_type": "code",
      "metadata": {
        "colab": {
          "base_uri": "https://localhost:8080/"
        },
        "id": "NAa9S9M4JCoR",
        "outputId": "5f2301cc-2b57-4065-8ae9-554e1c7785b9"
      },
      "source": [
        "\n",
        "model = load_model('dnn_model.h5')"
      ],
      "execution_count": null,
      "outputs": [
        {
          "output_type": "stream",
          "text": [
            "WARNING:tensorflow:No training configuration found in the save file, so the model was *not* compiled. Compile it manually.\n"
          ],
          "name": "stdout"
        }
      ]
    }
  ]
}